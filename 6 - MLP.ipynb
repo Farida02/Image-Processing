{
 "cells": [
  {
   "cell_type": "markdown",
   "metadata": {},
   "source": [
    "# Multi Layer Perceptron"
   ]
  },
  {
   "cell_type": "code",
   "execution_count": 2,
   "metadata": {},
   "outputs": [],
   "source": [
    "from keras.models import Sequential\n",
    "from keras.layers import Dense\n",
    "from keras.optimizers import SGD\n",
    "from keras.datasets import mnist\n",
    "from keras.utils import np_utils"
   ]
  },
  {
   "cell_type": "code",
   "execution_count": 3,
   "metadata": {},
   "outputs": [],
   "source": [
    "batch_size = 128\n",
    "nb_classes = 10\n",
    "nb_epoch = 20"
   ]
  },
  {
   "cell_type": "code",
   "execution_count": 4,
   "metadata": {},
   "outputs": [],
   "source": [
    "# Load MNIST dataset\n",
    "(X_train, y_train), (X_test, y_test) = mnist.load_data()\n",
    "X_train = X_train.reshape(60000, 784)\n",
    "X_test = X_test.reshape(10000, 784)\n",
    "X_train = X_train.astype('float32')\n",
    "X_test = X_test.astype('float32')\n",
    "X_train /= 255\n",
    "X_test /= 255\n",
    "Y_Train = np_utils.to_categorical(y_train, nb_classes)\n",
    "Y_Test = np_utils.to_categorical(y_test, nb_classes)"
   ]
  },
  {
   "cell_type": "code",
   "execution_count": 5,
   "metadata": {},
   "outputs": [],
   "source": [
    "# Multilayer Perceptron model\n",
    "model = Sequential()\n",
    "model.add(Dense(625, input_dim=784, kernel_initializer='normal', activation='sigmoid'))\n",
    "model.add(Dense(625, input_dim=625, kernel_initializer='normal', activation='sigmoid'))\n",
    "model.add(Dense(10, input_dim=625, kernel_initializer='normal', activation='softmax'))\n",
    "model.compile(optimizer=SGD(lr=0.05), loss='categorical_crossentropy', metrics=['accuracy'])"
   ]
  },
  {
   "cell_type": "code",
   "execution_count": 6,
   "metadata": {},
   "outputs": [
    {
     "name": "stdout",
     "output_type": "stream",
     "text": [
      "_________________________________________________________________\n",
      "Layer (type)                 Output Shape              Param #   \n",
      "=================================================================\n",
      "dense_1 (Dense)              (None, 625)               490625    \n",
      "_________________________________________________________________\n",
      "dense_2 (Dense)              (None, 625)               391250    \n",
      "_________________________________________________________________\n",
      "dense_3 (Dense)              (None, 10)                6260      \n",
      "=================================================================\n",
      "Total params: 888,135\n",
      "Trainable params: 888,135\n",
      "Non-trainable params: 0\n",
      "_________________________________________________________________\n"
     ]
    }
   ],
   "source": [
    "model.summary()"
   ]
  },
  {
   "cell_type": "code",
   "execution_count": 7,
   "metadata": {},
   "outputs": [
    {
     "name": "stderr",
     "output_type": "stream",
     "text": [
      "C:\\Users\\Raisha\\Anaconda3\\lib\\site-packages\\ipykernel_launcher.py:4: UserWarning: The `nb_epoch` argument in `fit` has been renamed `epochs`.\n",
      "  after removing the cwd from sys.path.\n"
     ]
    },
    {
     "name": "stdout",
     "output_type": "stream",
     "text": [
      "Train on 60000 samples, validate on 10000 samples\n",
      "Epoch 1/20\n",
      "60000/60000 [==============================] - 16s 259us/step - loss: 1.9094 - acc: 0.4228 - val_loss: 1.2947 - val_acc: 0.7332\n",
      "Epoch 2/20\n",
      "60000/60000 [==============================] - 15s 242us/step - loss: 0.9223 - acc: 0.7823 - val_loss: 0.6718 - val_acc: 0.8376\n",
      "Epoch 3/20\n",
      "60000/60000 [==============================] - 15s 243us/step - loss: 0.5824 - acc: 0.8496 - val_loss: 0.4989 - val_acc: 0.8671\n",
      "Epoch 4/20\n",
      "60000/60000 [==============================] - 15s 242us/step - loss: 0.4694 - acc: 0.8729 - val_loss: 0.4168 - val_acc: 0.8861\n",
      "Epoch 5/20\n",
      "60000/60000 [==============================] - 15s 247us/step - loss: 0.4157 - acc: 0.8848 - val_loss: 0.3833 - val_acc: 0.8909\n",
      "Epoch 6/20\n",
      "60000/60000 [==============================] - 15s 246us/step - loss: 0.3851 - acc: 0.8906 - val_loss: 0.3617 - val_acc: 0.8963\n",
      "Epoch 7/20\n",
      "60000/60000 [==============================] - 15s 251us/step - loss: 0.3642 - acc: 0.8965 - val_loss: 0.3388 - val_acc: 0.9038\n",
      "Epoch 8/20\n",
      "60000/60000 [==============================] - 15s 250us/step - loss: 0.3497 - acc: 0.8993 - val_loss: 0.3276 - val_acc: 0.9064\n",
      "Epoch 9/20\n",
      "60000/60000 [==============================] - 15s 251us/step - loss: 0.3384 - acc: 0.9023 - val_loss: 0.3224 - val_acc: 0.9078\n",
      "Epoch 10/20\n",
      "60000/60000 [==============================] - 15s 253us/step - loss: 0.3293 - acc: 0.9043 - val_loss: 0.3105 - val_acc: 0.9108\n",
      "Epoch 11/20\n",
      "60000/60000 [==============================] - 15s 251us/step - loss: 0.3211 - acc: 0.9076 - val_loss: 0.3054 - val_acc: 0.9122\n",
      "Epoch 12/20\n",
      "60000/60000 [==============================] - 15s 250us/step - loss: 0.3151 - acc: 0.9089 - val_loss: 0.2995 - val_acc: 0.9147\n",
      "Epoch 13/20\n",
      "60000/60000 [==============================] - 15s 254us/step - loss: 0.3093 - acc: 0.9109 - val_loss: 0.3012 - val_acc: 0.9134\n",
      "Epoch 14/20\n",
      "60000/60000 [==============================] - 16s 264us/step - loss: 0.3042 - acc: 0.9117 - val_loss: 0.2932 - val_acc: 0.9153\n",
      "Epoch 15/20\n",
      "60000/60000 [==============================] - 16s 263us/step - loss: 0.2999 - acc: 0.9129 - val_loss: 0.2912 - val_acc: 0.9159\n",
      "Epoch 16/20\n",
      "60000/60000 [==============================] - 16s 261us/step - loss: 0.2958 - acc: 0.9144 - val_loss: 0.2820 - val_acc: 0.9185\n",
      "Epoch 17/20\n",
      "60000/60000 [==============================] - 16s 260us/step - loss: 0.2918 - acc: 0.9158 - val_loss: 0.2806 - val_acc: 0.9189\n",
      "Epoch 18/20\n",
      "60000/60000 [==============================] - 16s 259us/step - loss: 0.2883 - acc: 0.9167 - val_loss: 0.2814 - val_acc: 0.9189\n",
      "Epoch 19/20\n",
      "60000/60000 [==============================] - 16s 258us/step - loss: 0.2855 - acc: 0.9182 - val_loss: 0.2795 - val_acc: 0.9197\n",
      "Epoch 20/20\n",
      "60000/60000 [==============================] - 16s 260us/step - loss: 0.2818 - acc: 0.9187 - val_loss: 0.2758 - val_acc: 0.9199\n"
     ]
    }
   ],
   "source": [
    "# Train\n",
    "history = model.fit(X_train, Y_Train, \n",
    "                    nb_epoch=nb_epoch,validation_data=(X_test, Y_Test), \n",
    "                    batch_size=batch_size, verbose=1)"
   ]
  },
  {
   "cell_type": "code",
   "execution_count": 8,
   "metadata": {},
   "outputs": [
    {
     "name": "stdout",
     "output_type": "stream",
     "text": [
      "10000/10000 [==============================] - 2s 165us/step\n",
      "Summary: Loss over the test dataset: 0.28, Accuracy: 0.92\n"
     ]
    }
   ],
   "source": [
    "# Evaluate\n",
    "evaluation = model.evaluate(X_test, Y_Test, verbose=1)\n",
    "print('Summary: Loss over the test dataset: %.2f, Accuracy: %.2f' % (evaluation[0], evaluation[1]))"
   ]
  },
  {
   "cell_type": "code",
   "execution_count": null,
   "metadata": {
    "collapsed": true
   },
   "outputs": [],
   "source": []
  }
 ],
 "metadata": {
  "kernelspec": {
   "display_name": "Python 3",
   "language": "python",
   "name": "python3"
  },
  "language_info": {
   "codemirror_mode": {
    "name": "ipython",
    "version": 3
   },
   "file_extension": ".py",
   "mimetype": "text/x-python",
   "name": "python",
   "nbconvert_exporter": "python",
   "pygments_lexer": "ipython3",
   "version": "3.6.4"
  }
 },
 "nbformat": 4,
 "nbformat_minor": 1
}
