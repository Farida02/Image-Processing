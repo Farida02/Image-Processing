{
 "cells": [
  {
   "cell_type": "markdown",
   "metadata": {},
   "source": [
    "# Convolutional Neural Networks"
   ]
  },
  {
   "cell_type": "markdown",
   "metadata": {},
   "source": [
    "### Import semua library yang dibutuhkan\n",
    "- Keras library untuk pemrosesan Neural Networks\n",
    "- Numpay library untuk mengelola nilai Array\n",
    "- matplotlib library untuk Visualisasi"
   ]
  },
  {
   "cell_type": "code",
   "execution_count": 1,
   "metadata": {},
   "outputs": [
    {
     "name": "stderr",
     "output_type": "stream",
     "text": [
      "Using TensorFlow backend.\n"
     ]
    }
   ],
   "source": [
    "from keras.models import Sequential\n",
    "from keras.layers import Dense, Flatten, Conv2D, MaxPooling2D, Dropout\n",
    "from keras.optimizers import RMSprop\n",
    "from keras.datasets import mnist\n",
    "from keras.utils import np_utils\n",
    "from keras import initializers\n",
    "from keras import backend as K\n",
    "from imageio import imread\n",
    "import numpy as np\n",
    "from matplotlib import pyplot as plt"
   ]
  },
  {
   "cell_type": "markdown",
   "metadata": {},
   "source": [
    "### Atur konfigurasi\n",
    "- batch_size konfigurasi untuk jumlah data pergelombang yang akan diproses di Neural Network\n",
    "- nb_classes konfigurasi untuk jumlah class yang ada pada dataset kita\n",
    "- nb_epoch = konfigurasi untuk jumlah perulangan training data"
   ]
  },
  {
   "cell_type": "code",
   "execution_count": 2,
   "metadata": {},
   "outputs": [],
   "source": [
    "batch_size = 128\n",
    "nb_classes = 10\n",
    "nb_epoch = 1\n",
    "\n",
    "img_rows, img_cols = 28, 28         # input image dimensions\n",
    "pool_size = (2, 2)                  # size of pooling area for max pooling\n",
    "prob_drop_conv = 0.2                # drop probability for dropout @ conv layer\n",
    "prob_drop_hidden = 0.5              # drop probability for dropout @ fc layer"
   ]
  },
  {
   "cell_type": "markdown",
   "metadata": {},
   "source": [
    "### Split data dan Reshape\n",
    "Pada bagian atas adalah bagian untuk split data ke dalam data train (X_Train, y_train) \n",
    "dan data test (X_test, y_test). Data yang di ambil adalah data gambar angka \n",
    "MNIST(Modified National Institute of Standards and Technology database)\n",
    "\n",
    "Pada bagian bawah adalah bagian untuk mereshape data yang sudah di dapat ke dalam bentuk 28x28"
   ]
  },
  {
   "cell_type": "code",
   "execution_count": 3,
   "metadata": {},
   "outputs": [
    {
     "name": "stdout",
     "output_type": "stream",
     "text": [
      "X_train original shape: (60000, 28, 28)\n"
     ]
    }
   ],
   "source": [
    "# Load MNIST dataset\n",
    "(X_train, y_train), (X_test, y_test) = mnist.load_data()\n",
    "print('X_train original shape:', X_train.shape)\n",
    "\n",
    "if K.common.image_dim_ordering() == 'th':\n",
    "    # For Theano backend\n",
    "    X_train = X_train.reshape(X_train.shape[0], 1, img_rows, img_cols)\n",
    "    X_test = X_test.reshape(X_test.shape[0], 1, img_rows, img_cols)\n",
    "    input_shape = (1, img_rows, img_cols)\n",
    "else:\n",
    "    # For TensorFlow backend\n",
    "    X_train = X_train.reshape(X_train.shape[0], img_rows, img_cols, 1)\n",
    "    X_test = X_test.reshape(X_test.shape[0], img_rows, img_cols, 1)\n",
    "    input_shape = (img_rows, img_cols, 1)"
   ]
  },
  {
   "cell_type": "markdown",
   "metadata": {},
   "source": [
    "### Pengurangan pixel dan One Hot Encoding\n",
    "Dibagian ini adalah proses mengurani nilai pixel agar komputasi menjadi lebih ringan dan cepat\n",
    "dengan cara membagi nilai setiap pixel dengan 255\n",
    "\n",
    "Selain itu disini kita juga melakukan pengkategorian data ke dalam biner dengan metode One Hot Encoding.\n",
    "Motede ini mengubah nilai kategori yang sebelumnya 1,2,3 ke dalam bentuk biner sesuai jumlah class menjadi dan dimulai dengan 0\n",
    "[0,1,0,0,0,0,0,0,0,0],\n",
    "[0,0,1,0,0,0,0,0,0,0],\n",
    "[0,0,0,1,0,0,0,0,0,0],\n",
    "\n",
    "misalkan untuk class 7 akan menjadi [0,0,0,0,0,0,0,1,0,0]"
   ]
  },
  {
   "cell_type": "code",
   "execution_count": 4,
   "metadata": {},
   "outputs": [
    {
     "name": "stdout",
     "output_type": "stream",
     "text": [
      "X_train shape: (60000, 28, 28, 1)\n",
      "60000 train samples\n",
      "10000 test samples\n"
     ]
    }
   ],
   "source": [
    "X_train = X_train.astype('float32') / 255.\n",
    "X_test = X_test.astype('float32') / 255.\n",
    "Y_train = np_utils.to_categorical(y_train, nb_classes)\n",
    "Y_test = np_utils.to_categorical(y_test, nb_classes)\n",
    "\n",
    "print('X_train shape:', X_train.shape)\n",
    "print(X_train.shape[0], 'train samples')\n",
    "print(X_test.shape[0], 'test samples')"
   ]
  },
  {
   "cell_type": "markdown",
   "metadata": {},
   "source": [
    "### Perancangan model\n",
    "Pada bagian ini kita merancang model yang akan kita gunakan untuk melakukan training dan testing dengan data set yang sudah kita siapkan.\n",
    "\n",
    "initializer adalah nilai yang akan kita gunakan untuk memasukkan nilai pertamakali pada bobot. hal ini berpengaruh pada kecepatan training.\n",
    "\n",
    "Sequential adalah suatu wadah yang akan menampung layer yang kita tambahkan\n",
    "\n",
    "Pada tiap conv layer kita mempunyai layer Conv2D menggunakan filters yakni 32 dengan kernel size 3x3 pixel, padding = 'same' yakni menambahkan padding atau lebihan pixel pada setiap sisi agar seluruh nilai dalam pixel dapat terhitung. input_shape yakni nilai bentuk data yang kita inputkan dari gambar dataset yang sudah kita siapkan.\n",
    "\n",
    "Selanjutnya pada layer MaxPooling2D adalah berguna untuk mengambil ciri/fitur dari sebuah citra dengan cara mengambil nilai terbesar pada setiap kernel size. pool_size berguna untuk mengatur ukuran filter, strides berguna mengatur pergeseran filter, padding='same' berguna untuk membuat lebihan data agar seluruh data dapat di hitung\n",
    "\n",
    "Selalnjutnya pada Dropout layer adalah fungsi untuk mematikan beberapa Neuron/Perceptron agar proses menjadi lebih ringan dan cepat. Berguna juga dalam mengatasi Overfiting.\n",
    "\n",
    "Selanjutnya pada flatten layer adalah berfungsi untuk menjadikan data output menjadi array 1 dimensi (vector)\n",
    "\n",
    "pada layer fc(Fully Connected) adalah layer untuk Neural Neworknya. Pada layer dense input yang kita gunakan adalah 625 yakni hasil dari layer flatten yang mengubah ke dalam bentuk vector dengan panjang 625. activation yang kita gunakan adalah relu(Rectified Linear Unit) berguna untuk mengubah nilai dibawah 0 menajadi 0.\n",
    "\n",
    "pada layer fc output yang terakhir adalah Softmax berguna untuk perhitungan probabilitas tiap class. sehingga tidak terbatas pada biner 0 dan 1 seperti pada Sigmoid.\n",
    "\n",
    "pada bagian bawah sendiri adalah fungsi untuk mengcompile rancangan yang kita bangun dengan matrik evaluasi yang kita gunakan adalah accuracy."
   ]
  },
  {
   "cell_type": "code",
   "execution_count": 5,
   "metadata": {},
   "outputs": [],
   "source": [
    "initializer = initializers.random_normal(stddev=0.02)\n",
    "\n",
    "# Convolutional model\n",
    "model = Sequential()\n",
    "\n",
    "# conv1 layer\n",
    "model.add(Conv2D(32, (3, 3), padding='same', activation='relu', input_shape=input_shape, kernel_initializer=initializer))\n",
    "model.add(MaxPooling2D(pool_size=pool_size, strides=(2,2), padding='same'))\n",
    "model.add(Dropout(prob_drop_conv))\n",
    "\n",
    "# conv2 layer\n",
    "model.add(Conv2D(64, (3, 3), padding='same', activation='relu', kernel_initializer=initializer))\n",
    "model.add(MaxPooling2D(pool_size=pool_size, strides=(2,2), padding='same'))\n",
    "model.add(Dropout(prob_drop_conv))\n",
    "\n",
    "# conv3 layer\n",
    "model.add(Conv2D(128, (3, 3), padding='same', activation='relu', kernel_initializer=initializer))\n",
    "model.add(MaxPooling2D(pool_size=pool_size, strides=(2,2), padding='same'))\n",
    "model.add(Flatten())\n",
    "model.add(Dropout(prob_drop_conv))\n",
    "\n",
    "# fc1 layer\n",
    "model.add(Dense(625, activation='relu', kernel_initializer=initializer))\n",
    "model.add(Dropout(prob_drop_hidden))\n",
    "\n",
    "# fc2 layer\n",
    "model.add(Dense(10, activation='softmax', kernel_initializer=initializer))\n",
    "\n",
    "opt = RMSprop(lr=0.001, rho=0.9)\n",
    "model.compile(optimizer=opt, loss='categorical_crossentropy', metrics=['accuracy'])"
   ]
  },
  {
   "cell_type": "markdown",
   "metadata": {},
   "source": [
    "### Summary model\n",
    "pada bagian ini kita dapat melihat rancangan yang kita bangun beserta output shape dan parameternya"
   ]
  },
  {
   "cell_type": "code",
   "execution_count": 6,
   "metadata": {},
   "outputs": [
    {
     "name": "stdout",
     "output_type": "stream",
     "text": [
      "Model: \"sequential_1\"\n",
      "_________________________________________________________________\n",
      "Layer (type)                 Output Shape              Param #   \n",
      "=================================================================\n",
      "conv2d_1 (Conv2D)            (None, 28, 28, 32)        320       \n",
      "_________________________________________________________________\n",
      "max_pooling2d_1 (MaxPooling2 (None, 14, 14, 32)        0         \n",
      "_________________________________________________________________\n",
      "dropout_1 (Dropout)          (None, 14, 14, 32)        0         \n",
      "_________________________________________________________________\n",
      "conv2d_2 (Conv2D)            (None, 14, 14, 64)        18496     \n",
      "_________________________________________________________________\n",
      "max_pooling2d_2 (MaxPooling2 (None, 7, 7, 64)          0         \n",
      "_________________________________________________________________\n",
      "dropout_2 (Dropout)          (None, 7, 7, 64)          0         \n",
      "_________________________________________________________________\n",
      "conv2d_3 (Conv2D)            (None, 7, 7, 128)         73856     \n",
      "_________________________________________________________________\n",
      "max_pooling2d_3 (MaxPooling2 (None, 4, 4, 128)         0         \n",
      "_________________________________________________________________\n",
      "flatten_1 (Flatten)          (None, 2048)              0         \n",
      "_________________________________________________________________\n",
      "dropout_3 (Dropout)          (None, 2048)              0         \n",
      "_________________________________________________________________\n",
      "dense_1 (Dense)              (None, 625)               1280625   \n",
      "_________________________________________________________________\n",
      "dropout_4 (Dropout)          (None, 625)               0         \n",
      "_________________________________________________________________\n",
      "dense_2 (Dense)              (None, 10)                6260      \n",
      "=================================================================\n",
      "Total params: 1,379,557\n",
      "Trainable params: 1,379,557\n",
      "Non-trainable params: 0\n",
      "_________________________________________________________________\n"
     ]
    }
   ],
   "source": [
    "model.summary()"
   ]
  },
  {
   "cell_type": "markdown",
   "metadata": {},
   "source": [
    "### Proses training model\n",
    "pada bagian ini kita melakukan training data ke dalam model dengan konfigurasi yang sudah kita atur sebelumnya.\n",
    "\n",
    "kita dapat melihat nilai akurasi dari model dengan data training yang kita latihkan"
   ]
  },
  {
   "cell_type": "code",
   "execution_count": 7,
   "metadata": {},
   "outputs": [
    {
     "name": "stdout",
     "output_type": "stream",
     "text": [
      "Train on 60000 samples, validate on 10000 samples\n",
      "Epoch 1/1\n",
      "60000/60000 [==============================] - 70s 1ms/step - loss: 0.3130 - accuracy: 0.8960 - val_loss: 0.0676 - val_accuracy: 0.9792\n"
     ]
    }
   ],
   "source": [
    "# Train\n",
    "history = model.fit(X_train, Y_train, epochs=nb_epoch, validation_data=(X_test, Y_test),\n",
    "                    batch_size=batch_size, verbose=1)"
   ]
  },
  {
   "cell_type": "markdown",
   "metadata": {},
   "source": [
    "### Proses testing model\n",
    "pada bagian ini kita melakukan testing model dengan data yang belum pernah diketahui oleh model (data baru) sehingga kita dapat melihat efektifitas atau akurasi yang didapat kalau kita melakukan prediksi pada tahap production"
   ]
  },
  {
   "cell_type": "code",
   "execution_count": 8,
   "metadata": {},
   "outputs": [
    {
     "name": "stdout",
     "output_type": "stream",
     "text": [
      "10000/10000 [==============================] - 3s 250us/step\n",
      "Summary: Loss over the test dataset: 0.07, Accuracy: 0.98\n"
     ]
    }
   ],
   "source": [
    "# Evaluate\n",
    "evaluation = model.evaluate(X_test, Y_test, batch_size=256, verbose=1)\n",
    "print('Summary: Loss over the test dataset: %.2f, Accuracy: %.2f' % (evaluation[0], evaluation[1]))"
   ]
  },
  {
   "cell_type": "markdown",
   "metadata": {},
   "source": [
    "### Proses percobaan prediksi\n",
    "pada bagian ini kita melakukan percobaan prediksi dengan data baru yakni gambar dengan format .JPG yang tersimpan pada direktori Datasets/MNIST/ dengan nama angka_8.jpg\n",
    "\n",
    "selanjutnya kita proses sesuai pre-processing pada data training yakni mengurangi nilai pixel\n",
    "dan terakhir kita lakukan model.predict pada data baru yang sudah disiapkan.\n",
    "\n",
    "kita bisa mencetak hasil yang kita dapat dengan fungsi dari numpy yakni argmax. fungsi ini berfungsi untuk mencari posisi(index) dengan nilai terbesar dari output yang kita dapat.\n",
    "\n",
    "output pada model.predict adalah berbentuk One Hot Encoding [0,0,0,0,0,0,0,0,1,0] untuk angka 8\n",
    "maka akan di cari indexnya dengan argmax sehingga dapat ditampilkan indexnya adalah 8"
   ]
  },
  {
   "cell_type": "code",
   "execution_count": 9,
   "metadata": {},
   "outputs": [
    {
     "name": "stdout",
     "output_type": "stream",
     "text": [
      "Hasil prediksi adalah : 8\n"
     ]
    },
    {
     "data": {
      "image/png": "[encoded data removed]",
      "text/plain": [
       "<Figure size 432x288 with 1 Axes>"
      ]
     },
     "metadata": {
      "needs_background": "light"
     },
     "output_type": "display_data"
    }
   ],
   "source": [
    "x = imread('Datasets/MNIST/angka_8.jpg')\n",
    "plt.imshow(x)\n",
    "x = x.reshape(1,28,28,1).astype('float32') / 255\n",
    "out = model.predict(x)\n",
    "print(\"Hasil prediksi adalah : \" + str(np.argmax(out)))"
   ]
  },
  {
   "cell_type": "markdown",
   "metadata": {
    "collapsed": true
   },
   "source": [
    "### Proses percobaan prediksi\n",
    "pada bagian ini kita coba menggunakan anka yang kita pilih secara acak dari data test dan kita dapat memeriksa apakah model yang sudah kita bangun sudah benar sesuai apa yang kita inginkan."
   ]
  },
  {
   "cell_type": "code",
   "execution_count": 16,
   "metadata": {},
   "outputs": [
    {
     "name": "stdout",
     "output_type": "stream",
     "text": [
      "Hasil Prediksi dari Model : 6\n",
      "Hasil dari Y_Test (One Hot Encoding) : [0. 0. 0. 0. 0. 0. 1. 0. 0. 0.]\n"
     ]
    },
    {
     "data": {
      "image/png": "[encoded data removed]",
      "text/plain": [
       "<Figure size 432x288 with 1 Axes>"
      ]
     },
     "metadata": {
      "needs_background": "light"
     },
     "output_type": "display_data"
    }
   ],
   "source": [
    "angkaRandom = np.random.randint(0,len(X_test))\n",
    "x = X_test[angkaRandom].reshape(1,28,28,1).astype('float32')\n",
    "plt.imshow(np.squeeze(x))\n",
    "\n",
    "ouput = model.predict(x)\n",
    "print(\"Hasil Prediksi dari Model : \" + str(np.argmax(ouput)))\n",
    "print(\"Hasil dari Y_Test (One Hot Encoding) : \" + str(Y_test[angkaRandom]))"
   ]
  },
  {
   "cell_type": "code",
   "execution_count": null,
   "metadata": {},
   "outputs": [],
   "source": []
  }
 ],
 "metadata": {
  "kernelspec": {
   "display_name": "Python 3",
   "language": "python",
   "name": "python3"
  },
  "language_info": {
   "codemirror_mode": {
    "name": "ipython",
    "version": 3
   },
   "file_extension": ".py",
   "mimetype": "text/x-python",
   "name": "python",
   "nbconvert_exporter": "python",
   "pygments_lexer": "ipython3",
   "version": "3.7.7"
  }
 },
 "nbformat": 4,
 "nbformat_minor": 1
}
